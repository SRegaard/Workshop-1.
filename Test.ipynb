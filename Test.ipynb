# workshop 1. 
For test

Dette er mine krav til programmet 
1. Det skal lave visualiseringer
