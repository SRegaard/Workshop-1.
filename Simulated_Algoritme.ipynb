{
  "nbformat": 4,
  "nbformat_minor": 0,
  "metadata": {
    "colab": {
      "provenance": [],
      "authorship_tag": "ABX9TyP62cSzgBZOQXhFo/vJ33qD",
      "include_colab_link": true
    },
    "kernelspec": {
      "name": "python3",
      "display_name": "Python 3"
    },
    "language_info": {
      "name": "python"
    }
  },
  "cells": [
    {
      "cell_type": "markdown",
      "metadata": {
        "id": "view-in-github",
        "colab_type": "text"
      },
      "source": [
        "<a href=\"https://colab.research.google.com/github/SRegaard/Workshop-1./blob/main/Simulated_Algoritme.ipynb\" target=\"_parent\"><img src=\"https://colab.research.google.com/assets/colab-badge.svg\" alt=\"Open In Colab\"/></a>"
      ]
    },
    {
      "cell_type": "markdown",
      "source": [
        "HEjheeeej"
      ],
      "metadata": {
        "id": "4cOpdHAjX63z"
      }
    },
    {
      "cell_type": "code",
      "source": [
        "#Moduler jeg importerer\n",
        "import random\n",
        "import matplotlib.pyplot as plt\n",
        "from collections import defaultdict\n"
      ],
      "metadata": {
        "id": "9JajpGu8X-b4"
      },
      "execution_count": 2,
      "outputs": []
    },
    {
      "cell_type": "markdown",
      "source": [
        "Min verden består af topics og en \"person Alice\" som er....  og en \"user Alice\" som er...\n",
        "\n",
        "100 videoer med tilfældige emner"
      ],
      "metadata": {
        "id": "noOdUMfFYaPi"
      }
    },
    {
      "cell_type": "code",
      "source": [
        "\n",
        "#Oprette variabler\n",
        "\n",
        "# Categories available on the platform\n",
        "topics = [\n",
        "    \"Music\", \"Film & Animation\", \"Gaming\", \"Entertainment\", \"News & Politics\", \"Sports\",\n",
        "    \"Science & Technology\", \"Education\", \"Travel & Events\", \"Lifestyle & Vlogs\", \"Food & Drink\",\n",
        "    \"Beauty & Fashion\", \"Documentaries\"\n",
        "]\n",
        "\n",
        "# Bruger med interessefordeling\n",
        "Alice_person = {\n",
        "    \"Alice\": {\"Science & Technology\": 0.7, \"News & Politics\": 0.9, \"Education\": 0.8}\n",
        "}\n",
        "# Algoritmens udgangspunkt for Alice: Alle kategorier har samme chance for at blive valgt\n",
        "Alice_user=  {\n",
        "    \"User_preference\": {category: 0.5 for category in topics}\n",
        "}\n",
        "\n",
        "# Video database\n",
        "# Laver en liste af 100 video, hvor hver video har fået et tilfældigt emne\n",
        "videos = {video_id: random.choice(topics) for video_id in range(100)}"
      ],
      "metadata": {
        "id": "S25Mr29QYQx5"
      },
      "execution_count": 22,
      "outputs": []
    },
    {
      "cell_type": "code",
      "source": [
        "def youtube_vælger_videoer ():\n",
        "  categories = list(Alice_user[\"User_preference\"].keys())\n",
        "  weights = list(Alice_user[\"User_preference\"].values())\n",
        "  chosen_category = random.choices(categories, weights)[0]\n",
        "  return chosen_category\n",
        "\n"
      ],
      "metadata": {
        "id": "nM7ps8OSaKhf"
      },
      "execution_count": 20,
      "outputs": []
    },
    {
      "cell_type": "code",
      "source": [
        "#Alice bliver præsenteret for 10 videoer på Youtube\n",
        "Alice_10_videoer= []\n",
        "for film in range(10):\n",
        "  Alice_10_videoer.append(youtube_vælger_videoer())\n",
        "\n",
        "#Alice vælger ud fra sine præferencer\n",
        "default_weight = 0.5\n",
        "\n",
        "# Opret en ny vægtet liste med Alices præferencer og standardværdier\n",
        "category_weights = {category: alice_preferences.get(category, default_weight) for category in topics}\n",
        "\n",
        "# Hent kategorier og deres tilhørende vægte\n",
        "categories = list(category_weights.keys())\n",
        "weights = list(category_weights.values())\n",
        "print(categories)\n",
        "print(weights)\n"
      ],
      "metadata": {
        "colab": {
          "base_uri": "https://localhost:8080/"
        },
        "id": "0LknUgTydnjS",
        "outputId": "c439108f-7b8c-4a5e-8392-d30f65e3bfbc"
      },
      "execution_count": 25,
      "outputs": [
        {
          "output_type": "stream",
          "name": "stdout",
          "text": [
            "['Music', 'Film & Animation', 'Gaming', 'Entertainment', 'News & Politics', 'Sports', 'Science & Technology', 'Education', 'Travel & Events', 'Lifestyle & Vlogs', 'Food & Drink', 'Beauty & Fashion', 'Documentaries']\n",
            "[0.5, 0.5, 0.5, 0.5, 0.5, 0.5, 0.5, 0.5, 0.5, 0.5, 0.5, 0.5, 0.5]\n"
          ]
        }
      ]
    },
    {
      "cell_type": "code",
      "source": [],
      "metadata": {
        "id": "-oNSRvFEht85"
      },
      "execution_count": null,
      "outputs": []
    },
    {
      "cell_type": "code",
      "source": [
        "# Print the assigned categories for each video\n",
        "for video_id, category in videos.items():\n",
        "    print(f\"Video {video_id}: {category}\")"
      ],
      "metadata": {
        "colab": {
          "base_uri": "https://localhost:8080/"
        },
        "collapsed": true,
        "id": "yqABgck8ZNFQ",
        "outputId": "bd6fb7a6-be60-47e7-f29f-11ffb48e39c3"
      },
      "execution_count": 4,
      "outputs": [
        {
          "output_type": "stream",
          "name": "stdout",
          "text": [
            "Video 0: Entertainment\n",
            "Video 1: Music\n",
            "Video 2: Film & Animation\n",
            "Video 3: Sports\n",
            "Video 4: Food & Drink\n",
            "Video 5: Music\n",
            "Video 6: Entertainment\n",
            "Video 7: Travel & Events\n",
            "Video 8: Gaming\n",
            "Video 9: Gaming\n",
            "Video 10: Lifestyle & Vlogs\n",
            "Video 11: News & Politics\n",
            "Video 12: Science & Technology\n",
            "Video 13: Music\n",
            "Video 14: Beauty & Fashion\n",
            "Video 15: News & Politics\n",
            "Video 16: Lifestyle & Vlogs\n",
            "Video 17: Music\n",
            "Video 18: Entertainment\n",
            "Video 19: Gaming\n",
            "Video 20: Lifestyle & Vlogs\n",
            "Video 21: Film & Animation\n",
            "Video 22: Lifestyle & Vlogs\n",
            "Video 23: Entertainment\n",
            "Video 24: Lifestyle & Vlogs\n",
            "Video 25: Education\n",
            "Video 26: Documentaries\n",
            "Video 27: Entertainment\n",
            "Video 28: Sports\n",
            "Video 29: Lifestyle & Vlogs\n",
            "Video 30: Music\n",
            "Video 31: Science & Technology\n",
            "Video 32: Education\n",
            "Video 33: Film & Animation\n",
            "Video 34: Music\n",
            "Video 35: Documentaries\n",
            "Video 36: Travel & Events\n",
            "Video 37: Education\n",
            "Video 38: Entertainment\n",
            "Video 39: Beauty & Fashion\n",
            "Video 40: Education\n",
            "Video 41: Travel & Events\n",
            "Video 42: Beauty & Fashion\n",
            "Video 43: Documentaries\n",
            "Video 44: Film & Animation\n",
            "Video 45: Lifestyle & Vlogs\n",
            "Video 46: Beauty & Fashion\n",
            "Video 47: Travel & Events\n",
            "Video 48: Sports\n",
            "Video 49: Beauty & Fashion\n",
            "Video 50: Education\n",
            "Video 51: Music\n",
            "Video 52: Beauty & Fashion\n",
            "Video 53: Documentaries\n",
            "Video 54: Documentaries\n",
            "Video 55: Documentaries\n",
            "Video 56: Music\n",
            "Video 57: Food & Drink\n",
            "Video 58: Entertainment\n",
            "Video 59: Music\n",
            "Video 60: Gaming\n",
            "Video 61: Beauty & Fashion\n",
            "Video 62: Entertainment\n",
            "Video 63: Gaming\n",
            "Video 64: Sports\n",
            "Video 65: Sports\n",
            "Video 66: Food & Drink\n",
            "Video 67: News & Politics\n",
            "Video 68: Gaming\n",
            "Video 69: Film & Animation\n",
            "Video 70: Education\n",
            "Video 71: Lifestyle & Vlogs\n",
            "Video 72: Film & Animation\n",
            "Video 73: Science & Technology\n",
            "Video 74: News & Politics\n",
            "Video 75: Film & Animation\n",
            "Video 76: Lifestyle & Vlogs\n",
            "Video 77: Film & Animation\n",
            "Video 78: Entertainment\n",
            "Video 79: News & Politics\n",
            "Video 80: Travel & Events\n",
            "Video 81: Gaming\n",
            "Video 82: Music\n",
            "Video 83: News & Politics\n",
            "Video 84: Sports\n",
            "Video 85: Film & Animation\n",
            "Video 86: Food & Drink\n",
            "Video 87: Film & Animation\n",
            "Video 88: Education\n",
            "Video 89: Science & Technology\n",
            "Video 90: Beauty & Fashion\n",
            "Video 91: Music\n",
            "Video 92: Entertainment\n",
            "Video 93: Music\n",
            "Video 94: Lifestyle & Vlogs\n",
            "Video 95: Food & Drink\n",
            "Video 96: Lifestyle & Vlogs\n",
            "Video 97: Lifestyle & Vlogs\n",
            "Video 98: News & Politics\n",
            "Video 99: Beauty & Fashion\n"
          ]
        }
      ]
    },
    {
      "cell_type": "code",
      "execution_count": null,
      "metadata": {
        "id": "ZcUzL30XWJIz"
      },
      "outputs": [],
      "source": [
        "\n",
        "# Create a recommended video list based on the videolist\n",
        "def recommend_videos(videos, num_recommendations=10):\n",
        "    recommended_vids = random.sample(list(videos.keys()), num_recommendations)\n",
        "    return recommended_vids\n",
        "\n",
        "# Get the recommended video list\n",
        "recommended_vids = recommend_videos(videos)\n",
        "\n",
        "\n",
        "#User object\n",
        "class user:\n",
        "    def __init__(self, name, preferences):\n",
        "        self.name = name\n",
        "        self.preferences = preferences\n",
        "        self.history = {}\n",
        "\n",
        "#User behaviour\n",
        "    def choose_recommended_video(self, recommended_videos):\n",
        "        # Choose a recommended video based on user preferences\n",
        "        chosen_video = random.choices(recommended_videos, weights=[self.preferences.get(videos[video], 1) for video in recommended_videos], k=1)[0]\n",
        "        self.history[chosen_video] += 1\n",
        "        return chosen_video\n",
        "\n",
        "# Create User objects\n",
        "users = [User(name, preferences) for name, preferences in users.items()]\n",
        "\n",
        "# Each user chooses 100 videos\n",
        "for user in users:\n",
        "    for _ in range(100):\n",
        "        recommended_videos = random.sample(list(videos.keys()), 10)\n",
        "        user.choose_recommended_video(recommended_videos)\n",
        "\n",
        "# Print the browsing history for each user\n",
        "for user in users:\n",
        "    print(f\"{user.name}:\")\n",
        "    for video_id, count in user.history.items():\n",
        "        print(f\"  Video {video_id} ({videos[video_id]}): {count}\")\n",
        "\n",
        "\n",
        "\n",
        "\n",
        "\n",
        "\n",
        "#___________\n",
        "\n",
        "#Hver user får præsenteret 10 random videoer til at starte, ingen history\n",
        "#Derfeter vælger de én video ud (Choice indtil 100 videoer)\n",
        "#Eventuel juster interessepunkter\n",
        "\n",
        "#Derefter er chancen for at blive exposed for samme categori 10% (Lav det exponentielt), den fordoble for hver gang man trykker på samme kategori\n",
        "\n",
        "\n",
        "#Det perfekte eccokammer er endgame. Når algoritmen har regnet brugeren ud 100%."
      ]
    }
  ]
}